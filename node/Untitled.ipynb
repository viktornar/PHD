{
 "cells": [
  {
   "cell_type": "code",
   "execution_count": 1,
   "metadata": {},
   "outputs": [
    {
     "name": "stdout",
     "output_type": "stream",
     "text": [
      "Collecting pixiedust_node\n",
      "  Downloading pixiedust_node-0.2.5.tar.gz (10 kB)\n",
      "Requirement already satisfied: pixiedust in /home/viktornareiko/miniconda3/lib/python3.7/site-packages (from pixiedust_node) (1.1.18)\n",
      "Requirement already satisfied: pandas in /home/viktornareiko/miniconda3/lib/python3.7/site-packages (from pixiedust_node) (1.0.5)\n",
      "Requirement already satisfied: ipython in /home/viktornareiko/miniconda3/lib/python3.7/site-packages (from pixiedust_node) (7.16.1)\n",
      "Requirement already satisfied: mpld3 in /home/viktornareiko/miniconda3/lib/python3.7/site-packages (from pixiedust->pixiedust_node) (0.5.1)\n",
      "Requirement already satisfied: markdown in /home/viktornareiko/miniconda3/lib/python3.7/site-packages (from pixiedust->pixiedust_node) (3.2.2)\n",
      "Requirement already satisfied: lxml in /home/viktornareiko/miniconda3/lib/python3.7/site-packages (from pixiedust->pixiedust_node) (4.5.2)\n",
      "Requirement already satisfied: astunparse in /home/viktornareiko/miniconda3/lib/python3.7/site-packages (from pixiedust->pixiedust_node) (1.6.2)\n",
      "Requirement already satisfied: geojson in /home/viktornareiko/miniconda3/lib/python3.7/site-packages (from pixiedust->pixiedust_node) (2.5.0)\n",
      "Requirement already satisfied: requests in /home/viktornareiko/miniconda3/lib/python3.7/site-packages (from pixiedust->pixiedust_node) (2.23.0)\n",
      "Requirement already satisfied: colour in /home/viktornareiko/miniconda3/lib/python3.7/site-packages (from pixiedust->pixiedust_node) (0.1.5)\n",
      "Requirement already satisfied: pytz>=2017.2 in /home/viktornareiko/miniconda3/lib/python3.7/site-packages (from pandas->pixiedust_node) (2020.1)\n",
      "Requirement already satisfied: numpy>=1.13.3 in /home/viktornareiko/miniconda3/lib/python3.7/site-packages (from pandas->pixiedust_node) (1.19.0)\n",
      "Requirement already satisfied: python-dateutil>=2.6.1 in /home/viktornareiko/miniconda3/lib/python3.7/site-packages (from pandas->pixiedust_node) (2.8.1)\n",
      "Requirement already satisfied: pexpect; sys_platform != \"win32\" in /home/viktornareiko/miniconda3/lib/python3.7/site-packages (from ipython->pixiedust_node) (4.8.0)\n",
      "Requirement already satisfied: pygments in /home/viktornareiko/miniconda3/lib/python3.7/site-packages (from ipython->pixiedust_node) (2.6.1)\n",
      "Requirement already satisfied: pickleshare in /home/viktornareiko/miniconda3/lib/python3.7/site-packages (from ipython->pixiedust_node) (0.7.5)\n",
      "Requirement already satisfied: decorator in /home/viktornareiko/miniconda3/lib/python3.7/site-packages (from ipython->pixiedust_node) (4.4.2)\n",
      "Requirement already satisfied: traitlets>=4.2 in /home/viktornareiko/miniconda3/lib/python3.7/site-packages (from ipython->pixiedust_node) (4.3.3)\n",
      "Requirement already satisfied: backcall in /home/viktornareiko/miniconda3/lib/python3.7/site-packages (from ipython->pixiedust_node) (0.2.0)\n",
      "Requirement already satisfied: prompt-toolkit!=3.0.0,!=3.0.1,<3.1.0,>=2.0.0 in /home/viktornareiko/miniconda3/lib/python3.7/site-packages (from ipython->pixiedust_node) (3.0.5)\n",
      "Requirement already satisfied: jedi>=0.10 in /home/viktornareiko/miniconda3/lib/python3.7/site-packages (from ipython->pixiedust_node) (0.17.2)\n",
      "Requirement already satisfied: setuptools>=18.5 in /home/viktornareiko/miniconda3/lib/python3.7/site-packages (from ipython->pixiedust_node) (46.4.0.post20200518)\n",
      "Requirement already satisfied: jinja2 in /home/viktornareiko/miniconda3/lib/python3.7/site-packages (from mpld3->pixiedust->pixiedust_node) (2.11.2)\n",
      "Requirement already satisfied: matplotlib in /home/viktornareiko/miniconda3/lib/python3.7/site-packages (from mpld3->pixiedust->pixiedust_node) (3.1.3)\n",
      "Requirement already satisfied: importlib-metadata; python_version < \"3.8\" in /home/viktornareiko/miniconda3/lib/python3.7/site-packages (from markdown->pixiedust->pixiedust_node) (1.7.0)\n",
      "Requirement already satisfied: wheel<1.0,>=0.23.0 in /home/viktornareiko/miniconda3/lib/python3.7/site-packages (from astunparse->pixiedust->pixiedust_node) (0.34.2)\n",
      "Requirement already satisfied: six<2.0,>=1.6.1 in /home/viktornareiko/miniconda3/lib/python3.7/site-packages (from astunparse->pixiedust->pixiedust_node) (1.14.0)\n",
      "Requirement already satisfied: urllib3!=1.25.0,!=1.25.1,<1.26,>=1.21.1 in /home/viktornareiko/miniconda3/lib/python3.7/site-packages (from requests->pixiedust->pixiedust_node) (1.25.8)\n",
      "Requirement already satisfied: idna<3,>=2.5 in /home/viktornareiko/miniconda3/lib/python3.7/site-packages (from requests->pixiedust->pixiedust_node) (2.9)\n",
      "Requirement already satisfied: chardet<4,>=3.0.2 in /home/viktornareiko/miniconda3/lib/python3.7/site-packages (from requests->pixiedust->pixiedust_node) (3.0.4)\n",
      "Requirement already satisfied: certifi>=2017.4.17 in /home/viktornareiko/miniconda3/lib/python3.7/site-packages (from requests->pixiedust->pixiedust_node) (2020.6.20)\n",
      "Requirement already satisfied: ptyprocess>=0.5 in /home/viktornareiko/miniconda3/lib/python3.7/site-packages (from pexpect; sys_platform != \"win32\"->ipython->pixiedust_node) (0.6.0)\n",
      "Requirement already satisfied: ipython-genutils in /home/viktornareiko/miniconda3/lib/python3.7/site-packages (from traitlets>=4.2->ipython->pixiedust_node) (0.2.0)\n",
      "Requirement already satisfied: wcwidth in /home/viktornareiko/miniconda3/lib/python3.7/site-packages (from prompt-toolkit!=3.0.0,!=3.0.1,<3.1.0,>=2.0.0->ipython->pixiedust_node) (0.2.5)\n",
      "Requirement already satisfied: parso<0.8.0,>=0.7.0 in /home/viktornareiko/miniconda3/lib/python3.7/site-packages (from jedi>=0.10->ipython->pixiedust_node) (0.7.0)\n",
      "Requirement already satisfied: MarkupSafe>=0.23 in /home/viktornareiko/miniconda3/lib/python3.7/site-packages (from jinja2->mpld3->pixiedust->pixiedust_node) (1.1.1)\n",
      "Requirement already satisfied: kiwisolver>=1.0.1 in /home/viktornareiko/miniconda3/lib/python3.7/site-packages (from matplotlib->mpld3->pixiedust->pixiedust_node) (1.2.0)\n",
      "Requirement already satisfied: pyparsing!=2.0.4,!=2.1.2,!=2.1.6,>=2.0.1 in /home/viktornareiko/miniconda3/lib/python3.7/site-packages (from matplotlib->mpld3->pixiedust->pixiedust_node) (2.4.7)\n",
      "Requirement already satisfied: cycler>=0.10 in /home/viktornareiko/miniconda3/lib/python3.7/site-packages (from matplotlib->mpld3->pixiedust->pixiedust_node) (0.10.0)\n",
      "Requirement already satisfied: zipp>=0.5 in /home/viktornareiko/miniconda3/lib/python3.7/site-packages (from importlib-metadata; python_version < \"3.8\"->markdown->pixiedust->pixiedust_node) (3.1.0)\n",
      "Building wheels for collected packages: pixiedust-node\n",
      "  Building wheel for pixiedust-node (setup.py) ... \u001b[?25ldone\n",
      "\u001b[?25h  Created wheel for pixiedust-node: filename=pixiedust_node-0.2.5-py2.py3-none-any.whl size=9405 sha256=c8368380557ac0c0f48a408231ac806c68d1767382a31f0c0f707800c48dc989\n",
      "  Stored in directory: /home/viktornareiko/.cache/pip/wheels/55/aa/60/c117fe683a0069cfd697ba0b5c63093e52616039e72103a5a0\n",
      "Successfully built pixiedust-node\n",
      "Installing collected packages: pixiedust-node\n",
      "Successfully installed pixiedust-node-0.2.5\n"
     ]
    }
   ],
   "source": [
    "!pip install pixiedust_node"
   ]
  },
  {
   "cell_type": "code",
   "execution_count": 2,
   "metadata": {},
   "outputs": [
    {
     "name": "stdout",
     "output_type": "stream",
     "text": [
      "Pixiedust database opened successfully\n",
      "Table VERSION_TRACKER created successfully\n",
      "Table METRICS_TRACKER created successfully\n",
      "\n",
      "Share anonymous install statistics? (opt-out instructions)\n",
      "\n",
      "PixieDust will record metadata on its environment the next time the package is installed or updated. The data is anonymized and aggregated to help plan for future releases, and records only the following values:\n",
      "\n",
      "{\n",
      "   \"data_sent\": currentDate,\n",
      "   \"runtime\": \"python\",\n",
      "   \"application_version\": currentPixiedustVersion,\n",
      "   \"space_id\": nonIdentifyingUniqueId,\n",
      "   \"config\": {\n",
      "       \"repository_id\": \"https://github.com/ibm-watson-data-lab/pixiedust\",\n",
      "       \"target_runtimes\": [\"Data Science Experience\"],\n",
      "       \"event_id\": \"web\",\n",
      "       \"event_organizer\": \"dev-journeys\"\n",
      "   }\n",
      "}\n",
      "You can opt out by calling pixiedust.optOut() in a new cell.\n"
     ]
    },
    {
     "data": {
      "text/html": [
       "\n",
       "        <div style=\"margin:10px\">\n",
       "            <a href=\"https://github.com/ibm-watson-data-lab/pixiedust\" target=\"_new\">\n",
       "                <img src=\"https://github.com/ibm-watson-data-lab/pixiedust/raw/master/docs/_static/pd_icon32.png\" style=\"float:left;margin-right:10px\"/>\n",
       "            </a>\n",
       "            <span>Pixiedust version 1.1.18</span>\n",
       "        </div>\n",
       "        "
      ],
      "text/plain": [
       "<IPython.core.display.HTML object>"
      ]
     },
     "metadata": {},
     "output_type": "display_data"
    },
    {
     "name": "stdout",
     "output_type": "stream",
     "text": [
      "\u001b[31mPixiedust runtime updated. Please restart kernel\u001b[0m\n",
      "Table USER_PREFERENCES created successfully\n",
      "Table service_connections created successfully\n"
     ]
    },
    {
     "data": {
      "text/html": [
       "\n",
       "            <div style=\"margin:10px\"> \n",
       "            <a href=\"https://github.com/ibm-cds-labs/pixiedust_node\" target=\"_new\"> \n",
       "            <img src=\"https://github.com/ibm-cds-labs/pixiedust_node/raw/master/docs/_images/pdn_icon32.png\" style=\"float:left;margin-right:10px\"/> \n",
       "            </a> \n",
       "            <span>Pixiedust Node.js</span> \n",
       "            </div> \n"
      ],
      "text/plain": [
       "<IPython.core.display.HTML object>"
      ]
     },
     "metadata": {},
     "output_type": "display_data"
    },
    {
     "name": "stdout",
     "output_type": "stream",
     "text": [
      "pixiedust_node 0.2.5 started. Cells starting '%%node' may contain Node.js code.\n"
     ]
    }
   ],
   "source": [
    "import pixiedust_node"
   ]
  },
  {
   "cell_type": "code",
   "execution_count": 3,
   "metadata": {
    "pixiedust": {
     "displayParams": {
      "handlerId": "tableView"
     }
    }
   },
   "outputs": [
    {
     "data": {
      "text/html": [
       "<style type=\"text/css\">.pd_warning{display:none;}</style><div class=\"pd_warning\"><em>Hey, there's something awesome here! To see it, open this notebook outside GitHub, in a viewer like Jupyter</em></div>"
      ],
      "text/plain": [
       "<IPython.core.display.HTML object>"
      ]
     },
     "metadata": {
      "pixieapp_metadata": null
     },
     "output_type": "display_data"
    }
   ],
   "source": [
    "%%node\n",
    "var data = [];\n",
    "for (var i = 0; i < 1000; i++) {\n",
    "    var x = 2*Math.PI * i/ 360;\n",
    "    var obj = {\n",
    "      x: x,\n",
    "      i: i,\n",
    "      sin: Math.sin(x),\n",
    "      cos: Math.cos(x),\n",
    "      tan: Math.tan(x)\n",
    "    };\n",
    "    data.push(obj);\n",
    "}\n",
    "display(data);"
   ]
  },
  {
   "cell_type": "code",
   "execution_count": null,
   "metadata": {},
   "outputs": [],
   "source": []
  }
 ],
 "metadata": {
  "kernelspec": {
   "display_name": "Python 3",
   "language": "python",
   "name": "python3"
  },
  "language_info": {
   "codemirror_mode": {
    "name": "ipython",
    "version": 3
   },
   "file_extension": ".py",
   "mimetype": "text/x-python",
   "name": "python",
   "nbconvert_exporter": "python",
   "pygments_lexer": "ipython3",
   "version": "3.7.7"
  }
 },
 "nbformat": 4,
 "nbformat_minor": 4
}
